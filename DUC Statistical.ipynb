{
 "cells": [
  {
   "cell_type": "code",
   "execution_count": null,
   "metadata": {},
   "outputs": [],
   "source": [
    "from collections import Counter\n",
    "from tqdm import tqdm\n",
    "import collections\n",
    "import nbimporter\n",
    "import warnings\n",
    "\n",
    "warnings.filterwarnings(\"ignore\")\n",
    "import Utilities as utility"
   ]
  },
  {
   "cell_type": "code",
   "execution_count": null,
   "metadata": {},
   "outputs": [],
   "source": [
    "doc_summary_pair = utility.loadObj('test_doc_summary_pair')"
   ]
  },
  {
   "cell_type": "code",
   "execution_count": null,
   "metadata": {},
   "outputs": [],
   "source": [
    "combined = []"
   ]
  },
  {
   "cell_type": "code",
   "execution_count": null,
   "metadata": {
    "scrolled": true
   },
   "outputs": [],
   "source": [
    "for pair in tqdm(doc_summary_pair):\n",
    "    doc = pair[0]\n",
    "    sentences = doc.split('.')\n",
    "\n",
    "    for i in range(0,len(sentences)):\n",
    "        sentences[i] = utility.simpleRemoveStopWords(sentences[i])\n",
    "\n",
    "    word_set = sum(sentences, [])    \n",
    "    counts = dict(Counter(word_set))\n",
    "    ordered_dic = collections.OrderedDict(sorted(counts.items(), key=lambda x: x[1], reverse=True ))\n",
    "    word_rank = list(ordered_dic.keys())\n",
    "    sentence_score = utility.getSentenceScore(sentences, word_rank)\n",
    "    ordered_dic = collections.OrderedDict(sorted(sentence_score.items(), key=lambda x: x[1], reverse=True ))\n",
    "    summery = utility.getSummary(40,ordered_dic,sentences)\n",
    "    summery_in_order = utility.getSentencesInOrder(summery,sentences)\n",
    "    \n",
    "    final_summary = ' '.join(sum(summery_in_order,[]))\n",
    "    human_summary = pair[1]\n",
    "    \n",
    "\n",
    "    human_summary = ' '.join(utility.simpleRemoveStopWords(human_summary))\n",
    "    summaryBigram = utility.findGrams(final_summary.lower(), 1)\n",
    "    humanBigram = utility.findGrams(human_summary.lower(), 1)\n",
    "    count = 0\n",
    "    for element in humanBigram:\n",
    "        if element in summaryBigram:\n",
    "            count+=1\n",
    "            \n",
    "\n",
    "    result = count/len(humanBigram)\n",
    "        \n",
    "    combined.append(result)"
   ]
  },
  {
   "cell_type": "code",
   "execution_count": null,
   "metadata": {},
   "outputs": [],
   "source": [
    "sum(combined)/len(combined)"
   ]
  },
  {
   "cell_type": "code",
   "execution_count": null,
   "metadata": {},
   "outputs": [],
   "source": [
    "combined.sort(reverse = True)\n",
    "combined"
   ]
  },
  {
   "cell_type": "code",
   "execution_count": null,
   "metadata": {},
   "outputs": [],
   "source": []
  }
 ],
 "metadata": {
  "kernelspec": {
   "display_name": "Python 3",
   "language": "python",
   "name": "python3"
  },
  "language_info": {
   "codemirror_mode": {
    "name": "ipython",
    "version": 3
   },
   "file_extension": ".py",
   "mimetype": "text/x-python",
   "name": "python",
   "nbconvert_exporter": "python",
   "pygments_lexer": "ipython3",
   "version": "3.6.0"
  }
 },
 "nbformat": 4,
 "nbformat_minor": 2
}
