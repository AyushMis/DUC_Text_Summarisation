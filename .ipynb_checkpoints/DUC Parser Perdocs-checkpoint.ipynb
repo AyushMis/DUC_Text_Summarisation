{
 "cells": [
  {
   "cell_type": "code",
   "execution_count": null,
   "metadata": {},
   "outputs": [],
   "source": [
    "from bs4 import BeautifulSoup as bs\n",
    "from tqdm import tqdm\n",
    "import nbimporter\n",
    "import warnings\n",
    "import codecs\n",
    "import glob\n",
    "\n",
    "warnings.filterwarnings(\"ignore\")\n",
    "import Utilities as utility"
   ]
  },
  {
   "cell_type": "code",
   "execution_count": null,
   "metadata": {
    "scrolled": true
   },
   "outputs": [],
   "source": [
    "directoryList = glob.glob('../dataset/duc2001/*')\n",
    "doc_summary_pair = []\n",
    "\n",
    "for directory in tqdm(directoryList):\n",
    "\n",
    "    #finding folders within folders of duc2001\n",
    "    subDir = glob.glob(directory+'/*')\n",
    "    \n",
    "    \n",
    "    # finding index of docs and folder name as they change their order while using glob\n",
    "    docs_index = 0\n",
    "    summary_index = 0\n",
    "    if 'docs' not in subDir[0]:\n",
    "        summary_index = 0\n",
    "        docs_index = 1\n",
    "    else:\n",
    "        summary_index = 1\n",
    "        docs_index = 0\n",
    "          \n",
    "    #for perdocs\n",
    "    with codecs.open(subDir[summary_index]+'/perdocs', \"r\", \"utf-8\") as infile:\n",
    "        soup = bs(infile, \"html5lib\")\n",
    "    \n",
    "    summary_list = soup.findAll('sum')\n",
    "    for summary in summary_list:\n",
    "        doc_name = summary['docref']\n",
    "        try:\n",
    "            with codecs.open(subDir[docs_index]+'/'+doc_name, \"r\", \"utf-8\") as infile:\n",
    "                doc_soup = bs(infile, \"html5lib\")\n",
    "        except:\n",
    "            print ('Error for: ',doc_name)\n",
    "            \n",
    "        doc_summary_pair.append([doc_soup.findAll('text')[0].text,summary.text])"
   ]
  },
  {
   "cell_type": "code",
   "execution_count": null,
   "metadata": {},
   "outputs": [],
   "source": [
    "utility.saveObj(doc_summary_pair,'test_doc_summary_pair')"
   ]
  }
 ],
 "metadata": {
  "kernelspec": {
   "display_name": "Python 3",
   "language": "python",
   "name": "python3"
  },
  "language_info": {
   "codemirror_mode": {
    "name": "ipython",
    "version": 3
   },
   "file_extension": ".py",
   "mimetype": "text/x-python",
   "name": "python",
   "nbconvert_exporter": "python",
   "pygments_lexer": "ipython3",
   "version": "3.6.0"
  }
 },
 "nbformat": 4,
 "nbformat_minor": 2
}
