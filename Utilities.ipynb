{
 "cells": [
  {
   "cell_type": "code",
   "execution_count": 1,
   "metadata": {},
   "outputs": [],
   "source": [
    "from pdfminer.pdfinterp import PDFResourceManager, PDFPageInterpreter\n",
    "from nltk.stem.wordnet import WordNetLemmatizer\n",
    "from pdfminer.converter import TextConverter\n",
    "from nltk.tokenize import word_tokenize\n",
    "from pdfminer.layout import LAParams\n",
    "from pdfminer.pdfparser import PDFParser, PDFDocument\n",
    "from pdfminer.pdfinterp import PDFResourceManager, process_pdf\n",
    "from pdfminer.converter import TextConverter\n",
    "from nltk.stem import PorterStemmer\n",
    "from nltk.tokenize import sent_tokenize, word_tokenize\n",
    "from nltk.corpus import stopwords\n",
    "from collections import Counter\n",
    "from io import StringIO\n",
    "import numpy as np\n",
    "import collections\n",
    "import warnings\n",
    "import pickle\n",
    "import nltk\n",
    "warnings.filterwarnings(\"ignore\")"
   ]
  },
  {
   "cell_type": "code",
   "execution_count": 2,
   "metadata": {},
   "outputs": [],
   "source": [
    "def pdfToTxt(path):\n",
    "    rsrcmgr = PDFResourceManager()\n",
    "    retstr = StringIO()\n",
    "    codec = 'utf-8'\n",
    "    laparams = LAParams()\n",
    "    device = TextConverter(rsrcmgr, retstr, laparams=laparams)\n",
    "\n",
    "    fp = open(path, 'rb')\n",
    "    process_pdf(rsrcmgr, device, fp)\n",
    "    fp.close()\n",
    "    device.close()\n",
    "\n",
    "    string = retstr.getvalue()\n",
    "    retstr.close()\n",
    "    return sent_tokenize(string.lower())"
   ]
  },
  {
   "cell_type": "code",
   "execution_count": 3,
   "metadata": {},
   "outputs": [],
   "source": [
    "def removeStopWordsLemmatize(text):\n",
    "    stop_words = set(stopwords.words('english'))\n",
    "    to_remove = ['\\n','&', '(', ')','.','\\x80', '\\x93', '\\x96', '\\x9c', \n",
    "             '\\x9e', '\\x9f', '\\xa4', '\\xb6', '\\xbc', '\\xc3', '\\xe2','$',\n",
    "             ':', ';', '?','~', '\\x81', '\\x82', '\\x83', '\\x84', '\\x86',\n",
    "             '\\x87', '\\x88', '\\x89', '\\x8b', '\\x8c', '\\x90', '\\x91', '\\x92',\n",
    "             '\\x94', '\\x97', '\\x98', '\\x99', '\\x9b', '\\x9d', '\\xa0', '\\xa1',\n",
    "             '\\xa2', '\\xa3', '\\xa5', '\\xa6', '\\xa7', '\\xa8', '\\xa9', '\\xaa',\n",
    "             '\\xab', '\\xac', '\\xad', '\\xae', '\\xaf', '\\xb0', '\\xb1', '\\xb2',\n",
    "             '\\xb3', '\\xb4', '\\xb5', '\\xb7', '\\xb8', '\\xb9', '\\xba', '\\xbb'\n",
    "             , '\\xbd', '\\xbe', '\\xbf', '\\xc2', '\\xc4', '\\xc5', '\\xc9', '\\xcb',\n",
    "             '\\xce', '\\xcf', '\\xd0', '\\xe1', '\\xef', '=', '\\\\', '^', '!', '#',\n",
    "             '%', '+', ',', '-', '/','\\x8a', '\\x9a', '\\xca','\"','{','}','|',\"'\",\"  \",'would','0','1','2','3','4','5',\n",
    "                '6','7','8','9','a','b','c','d','e','f','g','h','i','j','k','l','m','n','o','p','q','r','s','t'\n",
    "                'u','v','w','x','y','z','[',']']\n",
    "    stop_words.update(to_remove)\n",
    "    word_tokens = word_tokenize(text)\n",
    "    ps = PorterStemmer()\n",
    "    filtered_sentence = [ps.stem(w) for w in word_tokens if w not in stop_words and w.isalpha()]\n",
    "    #lemmatizer = WordNetLemmatizer()\n",
    "    #ps = PorterStemmer()\n",
    "    #lem = [ps.stem(t) for t in filtered_sentence]\n",
    "    return filtered_sentence"
   ]
  },
  {
   "cell_type": "code",
   "execution_count": 2,
   "metadata": {},
   "outputs": [],
   "source": [
    "def removeStopWords(text):\n",
    "    stop_words = set(stopwords.words('english'))\n",
    "    to_remove = ['\\n','&', '(', ')','.','\\x80', '\\x93', '\\x96', '\\x9c', \n",
    "             '\\x9e', '\\x9f', '\\xa4', '\\xb6', '\\xbc', '\\xc3', '\\xe2','$',\n",
    "             ':', ';', '?','~', '\\x81', '\\x82', '\\x83', '\\x84', '\\x86',\n",
    "             '\\x87', '\\x88', '\\x89', '\\x8b', '\\x8c', '\\x90', '\\x91', '\\x92',\n",
    "             '\\x94', '\\x97', '\\x98', '\\x99', '\\x9b', '\\x9d', '\\xa0', '\\xa1',\n",
    "             '\\xa2', '\\xa3', '\\xa5', '\\xa6', '\\xa7', '\\xa8', '\\xa9', '\\xaa',\n",
    "             '\\xab', '\\xac', '\\xad', '\\xae', '\\xaf', '\\xb0', '\\xb1', '\\xb2',\n",
    "             '\\xb3', '\\xb4', '\\xb5', '\\xb7', '\\xb8', '\\xb9', '\\xba', '\\xbb'\n",
    "             , '\\xbd', '\\xbe', '\\xbf', '\\xc2', '\\xc4', '\\xc5', '\\xc9', '\\xcb',\n",
    "             '\\xce', '\\xcf', '\\xd0', '\\xe1', '\\xef', '=', '\\\\', '^', '!', '#',\n",
    "             '%', '+', ',', '-', '/','\\x8a', '\\x9a', '\\xca','\"','{','}','|',\"'\",\"  \",'would','0','1','2','3','4','5',\n",
    "                '6','7','8','9','a','b','c','d','e','f','g','h','i','j','k','l','m','n','o','p','q','r','s','t'\n",
    "                'u','v','w','x','y','z','[',']']\n",
    "    stop_words.update(to_remove)\n",
    "    word_tokens = word_tokenize(text)\n",
    "    temp = []\n",
    "    filtered_sentence = []\n",
    "    vocab = []\n",
    "    #filtered_sentence = [w for w in word_tokens if w not in stop_words and w.isalpha()]\n",
    "    for w in word_tokens:\n",
    "        if w not in stop_words and w.isalpha():\n",
    "            temp.append(w)\n",
    "            if w not in vocab:\n",
    "                vocab.append(w)\n",
    "        elif w in stop_words:\n",
    "            if len(temp)!=0:\n",
    "                filtered_sentence.append(temp)\n",
    "            temp = []\n",
    "        \n",
    "    return filtered_sentence, vocab"
   ]
  },
  {
   "cell_type": "code",
   "execution_count": 3,
   "metadata": {},
   "outputs": [],
   "source": [
    "def simpleRemoveStopWords(sentence):\n",
    "    sentence = sentence.split(' ')\n",
    "    stop_words = set(stopwords.words('english'))\n",
    "    to_remove = ['\\n','&', '(', ')','.','\\x80', '\\x93', '\\x96', '\\x9c', \n",
    "             '\\x9e', '\\x9f', '\\xa4', '\\xb6', '\\xbc', '\\xc3', '\\xe2','$',\n",
    "             ':', ';', '?','~', '\\x81', '\\x82', '\\x83', '\\x84', '\\x86',\n",
    "             '\\x87', '\\x88', '\\x89', '\\x8b', '\\x8c', '\\x90', '\\x91', '\\x92',\n",
    "             '\\x94', '\\x97', '\\x98', '\\x99', '\\x9b', '\\x9d', '\\xa0', '\\xa1',\n",
    "             '\\xa2', '\\xa3', '\\xa5', '\\xa6', '\\xa7', '\\xa8', '\\xa9', '\\xaa',\n",
    "             '\\xab', '\\xac', '\\xad', '\\xae', '\\xaf', '\\xb0', '\\xb1', '\\xb2',\n",
    "             '\\xb3', '\\xb4', '\\xb5', '\\xb7', '\\xb8', '\\xb9', '\\xba', '\\xbb'\n",
    "             , '\\xbd', '\\xbe', '\\xbf', '\\xc2', '\\xc4', '\\xc5', '\\xc9', '\\xcb',\n",
    "             '\\xce', '\\xcf', '\\xd0', '\\xe1', '\\xef', '=', '\\\\', '^', '!', '#',\n",
    "             '%', '+', ',', '-', '/','\\x8a', '\\x9a', '\\xca','\"','{','}','|',\"'\",\"  \",'would','0','1','2','3','4','5',\n",
    "                '6','7','8','9','a','b','c','d','e','f','g','h','i','j','k','l','m','n','o','p','q','r','s','t'\n",
    "                'u','v','w','x','y','z','[',']']\n",
    "    stop_words.update(to_remove)\n",
    "    sentence = [word for word in sentence if word.lower() not in stop_words and word.isalpha()]\n",
    "    return sentence"
   ]
  },
  {
   "cell_type": "code",
   "execution_count": 6,
   "metadata": {},
   "outputs": [],
   "source": [
    "def saveObj(obj, name ):\n",
    "    with open('../objects/'+ name + '.pkl', 'wb') as f:\n",
    "        pickle.dump(obj, f, pickle.HIGHEST_PROTOCOL)"
   ]
  },
  {
   "cell_type": "code",
   "execution_count": 7,
   "metadata": {},
   "outputs": [],
   "source": [
    "def loadObj(name):\n",
    "    with open('../objects/' + name + '.pkl', 'rb') as f:\n",
    "        return pickle.load(f)"
   ]
  },
  {
   "cell_type": "code",
   "execution_count": 8,
   "metadata": {},
   "outputs": [],
   "source": [
    "def createSentences(text):\n",
    "    stri = StringIO(str(text.encode('utf-8')))\n",
    "    sentences = []\n",
    "    while True:\n",
    "        nl = stri.readline()\n",
    "        if nl != '':\n",
    "            sentences.append(nl)\n",
    "        else:\n",
    "            break\n",
    "    return sentences"
   ]
  },
  {
   "cell_type": "code",
   "execution_count": 9,
   "metadata": {},
   "outputs": [],
   "source": [
    "def getSentenceScore(sentences, word_rank):\n",
    "    d = {}\n",
    "    sentence_score = 0\n",
    "    c = 0\n",
    "    for sentence in sentences:\n",
    "        sentence_score = 0\n",
    "        for word in sentence:\n",
    "            if word in word_rank:\n",
    "                sentence_score += len(word_rank) - word_rank.index(word)\n",
    "        d[c] = sentence_score\n",
    "        c += 1\n",
    "    return d"
   ]
  },
  {
   "cell_type": "code",
   "execution_count": 10,
   "metadata": {},
   "outputs": [],
   "source": [
    "def getSummary(compression_ratio,ordered_dic,sentences):\n",
    "    sentencesToInclude = (compression_ratio*len(sentences))//100\n",
    "    compressed = list()\n",
    "    counter = 1\n",
    "    for i in ordered_dic:\n",
    "        compressed.append(sentences[i])\n",
    "        if counter == sentencesToInclude:\n",
    "            break\n",
    "        counter+=1\n",
    "    return compressed"
   ]
  },
  {
   "cell_type": "code",
   "execution_count": 11,
   "metadata": {},
   "outputs": [],
   "source": [
    "def findGrams(text,gram):\n",
    "    gram_arr = []\n",
    "    text = text.split(' ')\n",
    "    for i in range(gram,len(text)+1):\n",
    "        gram_arr.append(text[i-gram:i])\n",
    "    return (gram_arr)"
   ]
  },
  {
   "cell_type": "code",
   "execution_count": 12,
   "metadata": {},
   "outputs": [],
   "source": [
    "def findOccurenceMatrix(clean_text, vocab):\n",
    "    vocab_size = len(vocab)\n",
    "    occurenceMatrix = np.zeros((vocab_size, vocab_size))\n",
    "    for element in clean_text:\n",
    "        if len(element)>1:   \n",
    "            for i in range(len(element)):\n",
    "                for j in range(i,len(element)):\n",
    "                    index1 = vocab.index(element[i])\n",
    "                    index2 = vocab.index(element[j])\n",
    "                    if i!=j:\n",
    "                        occurenceMatrix[index1][index2] += 1\n",
    "                        #occurenceMatrix[index1][index1] += 1\n",
    "                        occurenceMatrix[index2][index1] += 1\n",
    "                        #occurenceMatrix[index2][index2] += 1\n",
    "                    else:\n",
    "                        occurenceMatrix[index1][index1] += 1\n",
    "        else:\n",
    "            index1 = vocab.index(element[0])\n",
    "            occurenceMatrix[index1][index1] += 1\n",
    "    return occurenceMatrix"
   ]
  },
  {
   "cell_type": "code",
   "execution_count": 13,
   "metadata": {},
   "outputs": [],
   "source": [
    "def getSentencesInOrder(summery,sentences):\n",
    "    sentence_in_order = []\n",
    "    for sentence in sentences:\n",
    "        if sentence in summery:\n",
    "            sentence_in_order.append(sentence)\n",
    "    return sentence_in_order"
   ]
  }
 ],
 "metadata": {
  "kernelspec": {
   "display_name": "Python 3",
   "language": "python",
   "name": "python3"
  },
  "language_info": {
   "codemirror_mode": {
    "name": "ipython",
    "version": 3
   },
   "file_extension": ".py",
   "mimetype": "text/x-python",
   "name": "python",
   "nbconvert_exporter": "python",
   "pygments_lexer": "ipython3",
   "version": "3.6.0"
  }
 },
 "nbformat": 4,
 "nbformat_minor": 2
}
