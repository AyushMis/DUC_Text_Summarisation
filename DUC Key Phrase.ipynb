{
 "cells": [
  {
   "cell_type": "code",
   "execution_count": null,
   "metadata": {},
   "outputs": [],
   "source": [
    "from collections import Counter\n",
    "from tqdm import tqdm\n",
    "import numpy as np\n",
    "import collections\n",
    "import nbimporter\n",
    "import warnings\n",
    "\n",
    "warnings.filterwarnings(\"ignore\")\n",
    "import Utilities as utility"
   ]
  },
  {
   "cell_type": "code",
   "execution_count": null,
   "metadata": {},
   "outputs": [],
   "source": [
    "doc_summary_pair = utility.loadObj('test_doc_summary_pair')"
   ]
  },
  {
   "cell_type": "code",
   "execution_count": null,
   "metadata": {},
   "outputs": [],
   "source": [
    "combined = []"
   ]
  },
  {
   "cell_type": "code",
   "execution_count": null,
   "metadata": {
    "scrolled": true
   },
   "outputs": [],
   "source": [
    "combined = []\n",
    "for pair in tqdm(doc_summary_pair):\n",
    "    try:\n",
    "        doc = pair[0]\n",
    "        sentences = doc.split('.')\n",
    "\n",
    "        clean_text = []\n",
    "        included_sentences = []\n",
    "        for sentence in sentences:\n",
    "            if (len(utility.simpleRemoveStopWords(sentence)) > 3):\n",
    "                clean_text.append(utility.simpleRemoveStopWords(sentence))\n",
    "                included_sentences.append(sentence)\n",
    "\n",
    "        vocab = sum(clean_text,[])\n",
    "\n",
    "\n",
    "        occurenceMatrix = utility.findOccurenceMatrix(clean_text, vocab)\n",
    "        degreeWord = occurenceMatrix.sum(axis=1)\n",
    "        freqWord = np.amax(occurenceMatrix, axis=1)\n",
    "\n",
    "        for i in range(len(freqWord)):\n",
    "            if freqWord[i] == 0:\n",
    "                freqWord[i] = 1\n",
    "\n",
    "\n",
    "        score = degreeWord/freqWord\n",
    "        dic = {}\n",
    "\n",
    "        for i in range(len(vocab)):        \n",
    "            try:\n",
    "                dic.update({vocab[i]: score[i]})\n",
    "            except:\n",
    "                print('error1')\n",
    "\n",
    "        candidate_scores = []\n",
    "        for element in clean_text:\n",
    "            scr = 0\n",
    "            for word in element:\n",
    "                try:\n",
    "                    scr += dic[word]\n",
    "                except:\n",
    "                    print()\n",
    "            candidate_scores.append((scr, ' '.join(element)))\n",
    "\n",
    "        candidate_scores.sort(reverse=True)\n",
    "        l = (40*len(candidate_scores))//100\n",
    "        candidate_scores = candidate_scores[0:l]\n",
    "        key_phrase = []\n",
    "        to_inlcude = ''\n",
    "        count = -1000\n",
    "        for i in candidate_scores:\n",
    "            count = -1000\n",
    "            for j in included_sentences:\n",
    "                common = len( set( i[1].split(' ') ).intersection(set( j.split(' '))))\n",
    "                if  common > count:\n",
    "                    count  = common\n",
    "                    to_inlcude = j\n",
    "            key_phrase.append(to_inlcude)\n",
    "\n",
    "        code_summary = ' '.join(key_phrase)\n",
    "        gold_summary = pair[1]\n",
    "\n",
    "\n",
    "        summaryBigram = utility.findGrams(code_summary.lower(), 1)\n",
    "        humanBigram = utility.findGrams(gold_summary.lower(), 1)\n",
    "        count = 0\n",
    "        for element in humanBigram:\n",
    "            if element in summaryBigram:\n",
    "                count+=1\n",
    "\n",
    "        result = count/len(humanBigram)\n",
    "        combined.append(result)\n",
    "    except:\n",
    "        print ('Errored occured')\n"
   ]
  },
  {
   "cell_type": "code",
   "execution_count": null,
   "metadata": {},
   "outputs": [],
   "source": [
    "sum(combined)/len(combined)"
   ]
  },
  {
   "cell_type": "code",
   "execution_count": null,
   "metadata": {},
   "outputs": [],
   "source": [
    "combined.sort(reverse = True)\n",
    "combined"
   ]
  },
  {
   "cell_type": "code",
   "execution_count": null,
   "metadata": {},
   "outputs": [],
   "source": []
  }
 ],
 "metadata": {
  "kernelspec": {
   "display_name": "Python 3",
   "language": "python",
   "name": "python3"
  },
  "language_info": {
   "codemirror_mode": {
    "name": "ipython",
    "version": 3
   },
   "file_extension": ".py",
   "mimetype": "text/x-python",
   "name": "python",
   "nbconvert_exporter": "python",
   "pygments_lexer": "ipython3",
   "version": "3.6.0"
  }
 },
 "nbformat": 4,
 "nbformat_minor": 2
}
